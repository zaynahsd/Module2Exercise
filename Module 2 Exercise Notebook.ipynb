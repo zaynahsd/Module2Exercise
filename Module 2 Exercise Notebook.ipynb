{
 "cells": [
  {
   "cell_type": "markdown",
   "id": "ee8b7bdb",
   "metadata": {},
   "source": [
    "## Q1 (2 points)\n",
    "Convert a list of multiple integers into a single integer:\n",
    "\n",
    "Sample list: [11, 33, 50]\n",
    "\n",
    "Expected Output: 113350"
   ]
  },
  {
   "cell_type": "code",
   "execution_count": 49,
   "id": "db37fd52",
   "metadata": {},
   "outputs": [],
   "source": [
    "a = [11, 33, 50]"
   ]
  },
  {
   "cell_type": "code",
   "execution_count": 51,
   "id": "663b70f8",
   "metadata": {},
   "outputs": [
    {
     "name": "stdout",
     "output_type": "stream",
     "text": [
      "113350\n"
     ]
    }
   ],
   "source": [
    "# Write your program here. The cell output should be the integer 113350.\n",
    "x = int(\"\".join(map(str, a)))\n",
    "print(x)\n",
    "\n"
   ]
  },
  {
   "cell_type": "markdown",
   "id": "5b63b43f",
   "metadata": {},
   "source": [
    "## Q2 (3 points)\n",
    "Flatten a given nested list structure. \n",
    "\n",
    "Original list: [0, 10, [20, 30], 40, 50, [60, 70, 80], [90, 100, 110, 120]]\n",
    "\n",
    "Flatten list:\n",
    "[0, 10, 20, 30, 40, 50, 60, 70, 80, 90, 100, 110, 120]"
   ]
  },
  {
   "cell_type": "code",
   "execution_count": 138,
   "id": "595e90a2",
   "metadata": {},
   "outputs": [],
   "source": [
    "a = [0, 10, [20, 30], 40, 50, [60, 70, 80], [90, 100, 110, 120]]"
   ]
  },
  {
   "cell_type": "code",
   "execution_count": 139,
   "id": "ce8fc6b2",
   "metadata": {
    "scrolled": true
   },
   "outputs": [
    {
     "name": "stdout",
     "output_type": "stream",
     "text": [
      "[0, 10, 20, 30, 40, 50, 60, 70, 80, 90, 100, 110, 120]\n"
     ]
    }
   ],
   "source": [
    "# Write your program here. The cell output should be the flattened list.\n",
    "\n",
    "flat_list = []\n",
    "for num in a: \n",
    "    if isinstance(num, list): \n",
    "        flat_list.extend(num) \n",
    "    else: \n",
    "        flat_list.append(num)\n",
    "\n",
    "print(flat_list)"
   ]
  },
  {
   "cell_type": "markdown",
   "id": "a17788d2",
   "metadata": {},
   "source": [
    "## Q3 (2 points)\n",
    "Convert a given dictionary into a list of lists.\n",
    "\n",
    "Original Dictionary:\n",
    "{1: 'red', 2: 'green', 3: 'black', 4: 'white', 5: 'black'}\n",
    "\n",
    "Convert the said dictionary into a list of lists:\n",
    "[[1, 'red'], [2, 'green'], [3, 'black'], [4, 'white'], [5, 'black']]"
   ]
  },
  {
   "cell_type": "code",
   "execution_count": 122,
   "id": "c11f6cdc",
   "metadata": {},
   "outputs": [],
   "source": [
    "myDict = {\n",
    "    1: 'red',\n",
    "    2: 'green',\n",
    "    3: 'black',\n",
    "    4: 'white',\n",
    "    5: 'black'\n",
    "}"
   ]
  },
  {
   "cell_type": "code",
   "execution_count": 123,
   "id": "50be9788",
   "metadata": {
    "scrolled": true
   },
   "outputs": [
    {
     "data": {
      "text/plain": [
       "[[1, 'red'], [2, 'green'], [3, 'black'], [4, 'white'], [5, 'black']]"
      ]
     },
     "execution_count": 123,
     "metadata": {},
     "output_type": "execute_result"
    }
   ],
   "source": [
    "# Write your program here. The cell output should be the list of lists\n",
    "list(map(list,myDict.items()))\n"
   ]
  },
  {
   "cell_type": "markdown",
   "id": "11648db5",
   "metadata": {},
   "source": [
    "## Q4 (3 points)\n",
    "Create a new GitHub repository. Save this notebook to that repository, and enter the link to the GitHub repository below. "
   ]
  },
  {
   "cell_type": "markdown",
   "id": "c37d7ac3",
   "metadata": {},
   "source": []
  }
 ],
 "metadata": {
  "kernelspec": {
   "display_name": "Python 3 (ipykernel)",
   "language": "python",
   "name": "python3"
  },
  "language_info": {
   "codemirror_mode": {
    "name": "ipython",
    "version": 3
   },
   "file_extension": ".py",
   "mimetype": "text/x-python",
   "name": "python",
   "nbconvert_exporter": "python",
   "pygments_lexer": "ipython3",
   "version": "3.9.12"
  },
  "vscode": {
   "interpreter": {
    "hash": "39d1b3b380194fb10e5f7a554f5384b549992180a9b34130e3aed54f4e7747de"
   }
  }
 },
 "nbformat": 4,
 "nbformat_minor": 5
}
